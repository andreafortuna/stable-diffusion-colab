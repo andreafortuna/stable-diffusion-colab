{
  "cells": [
    {
      "cell_type": "markdown",
      "metadata": {
        "colab_type": "text",
        "id": "view-in-github"
      },
      "source": [
        "<a href=\"https://colab.research.google.com/github/andreafortuna/stable-diffusion-colab/blob/main/stable-diffusion.ipynb\" target=\"_parent\"><img src=\"https://colab.research.google.com/assets/colab-badge.svg\" alt=\"Open In Colab\"/></a>"
      ]
    },
    {
      "cell_type": "code",
      "execution_count": null,
      "metadata": {
        "cellView": "form",
        "id": "vF9Q0xKX8gLR"
      },
      "outputs": [],
      "source": [
        "#@title Setup\n",
        "huggingface_token = \"\" #@param {type:\"string\"}\n",
        "%pip install --quiet --upgrade diffusers transformers scipy mediapy ftfy python-slugify\n",
        "\n",
        "from huggingface_hub.hf_api import HfFolder\n",
        "HfFolder.save_token(huggingface_token)\n",
        "\n",
        "from diffusers import PNDMScheduler, DDIMScheduler, LMSDiscreteScheduler\n",
        "\n",
        "scheduler = LMSDiscreteScheduler(beta_start=0.00085,beta_end=0.012, beta_schedule=\"scaled_linear\",num_train_timesteps=1000)\n",
        "#scheduler = PNDMScheduler(beta_start=0.00085, beta_end=0.012, beta_schedule=\"scaled_linear\", skip_prk_steps=True)\n",
        "#scheduler = DDIMScheduler(beta_start=0.00085, beta_end=0.012, beta_schedule=\"scaled_linear\")\n",
        "#scheduler = LMSDiscreteScheduler(beta_start=0.00085, beta_end=0.012, beta_schedule=\"scaled_linear\")\n",
        "import mediapy as media\n",
        "import torch\n",
        "from torch import autocast\n",
        "from diffusers import StableDiffusionPipeline\n",
        "\n",
        "model_id = \"CompVis/stable-diffusion-v1-4\"\n",
        "pipe = StableDiffusionPipeline.from_pretrained(model_id, scheduler=scheduler, torch_dtype=torch.float16, revision=\"fp16\", use_auth_token=True,hub_token = huggingface_token)\n",
        "pipe.safety_checker = lambda images, clip_input: (images, False)\n",
        "\n",
        "pipe = pipe.to(\"cuda\")\n",
        "\n"
      ]
    },
    {
      "cell_type": "code",
      "execution_count": null,
      "metadata": {
        "cellView": "form",
        "id": "AUc4QJfE-uR9"
      },
      "outputs": [],
      "source": [
        "#@title Image generation\n",
        "prompt = \"paint of Spiderman in Picasso style\" #@param {type:\"string\"}\n",
        "guidance_scale = 7.5 #@param {type:\"number\"}\n",
        "num_inference_steps = 50 #@param {type:\"integer\"}\n",
        "image_size = 512 #@param [\"320\", \"512\", \"640\"] {type:\"raw\"}\n",
        "#prompt = input(\"Image description: \")\n",
        "num_images = 1\n",
        "from slugify import slugify\n",
        "\n",
        "prompts = [ prompt ] * num_images\n",
        "with autocast(\"cuda\"):\n",
        "    images = pipe(prompts, guidance_scale=guidance_scale, num_inference_steps=num_inference_steps,height=image_size, width=image_size).images \n",
        "    \n",
        "media.show_images(images)\n",
        "image_name = slugify(prompt)\n",
        "images[0].save(image_name + \".jpg\")"
      ]
    }
  ],
  "metadata": {
    "accelerator": "GPU",
    "colab": {
      "collapsed_sections": [],
      "include_colab_link": true,
      "provenance": []
    },
    "gpuClass": "standard",
    "kernelspec": {
      "display_name": "Python 3",
      "name": "python3"
    },
    "language_info": {
      "name": "python"
    }
  },
  "nbformat": 4,
  "nbformat_minor": 0
}
